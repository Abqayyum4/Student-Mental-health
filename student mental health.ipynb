{
 "cells": [
  {
   "cell_type": "markdown",
   "id": "74085d69-6420-4696-9eb4-b2797a06c9a0",
   "metadata": {},
   "source": [
    "## Abdul Qayyum\n",
    "## 2k22/CSE/6"
   ]
  },
  {
   "cell_type": "markdown",
   "id": "b7821279-2411-4d74-b93a-e1c1ecdf8d1b",
   "metadata": {},
   "source": [
    "## Data visualization "
   ]
  },
  {
   "cell_type": "code",
   "execution_count": 1,
   "id": "1f8ab2d8-eb36-4c23-b3be-c82ee859926f",
   "metadata": {},
   "outputs": [
    {
     "name": "stdout",
     "output_type": "stream",
     "text": [
      "Requirement already satisfied: pandas in c:\\users\\c s\\desktop\\ancaconda\\lib\\site-packages (2.1.4)\n",
      "Requirement already satisfied: numpy<2,>=1.23.2 in c:\\users\\c s\\desktop\\ancaconda\\lib\\site-packages (from pandas) (1.26.4)\n",
      "Requirement already satisfied: python-dateutil>=2.8.2 in c:\\users\\c s\\desktop\\ancaconda\\lib\\site-packages (from pandas) (2.8.2)\n",
      "Requirement already satisfied: pytz>=2020.1 in c:\\users\\c s\\desktop\\ancaconda\\lib\\site-packages (from pandas) (2023.3.post1)\n",
      "Requirement already satisfied: tzdata>=2022.1 in c:\\users\\c s\\desktop\\ancaconda\\lib\\site-packages (from pandas) (2023.3)\n",
      "Requirement already satisfied: six>=1.5 in c:\\users\\c s\\desktop\\ancaconda\\lib\\site-packages (from python-dateutil>=2.8.2->pandas) (1.16.0)\n"
     ]
    }
   ],
   "source": [
    "!pip install pandas"
   ]
  },
  {
   "cell_type": "code",
   "execution_count": 2,
   "id": "ff7cb859-7ac7-4bb2-8019-f84456c7cfa4",
   "metadata": {},
   "outputs": [],
   "source": [
    "import pandas as pd"
   ]
  },
  {
   "cell_type": "code",
   "execution_count": 8,
   "id": "39d74169-1317-4aa8-bcc6-1fcbabf23a3e",
   "metadata": {},
   "outputs": [
    {
     "name": "stdout",
     "output_type": "stream",
     "text": [
      "               Timestamp Choose your gender   Age What is your course?  \\\n",
      "0         8/7/2020 12:02             Female  18.0          Engineering   \n",
      "1         8/7/2020 12:04               Male  21.0    Islamic education   \n",
      "2         8/7/2020 12:05               Male  19.0                  BIT   \n",
      "3         8/7/2020 12:06             Female  22.0                 Laws   \n",
      "4         8/7/2020 12:13               Male  23.0         Mathemathics   \n",
      "..                   ...                ...   ...                  ...   \n",
      "96   13/07/2020 19:56:49             Female  21.0                  BCS   \n",
      "97   13/07/2020 21:21:42               Male  18.0          Engineering   \n",
      "98   13/07/2020 21:22:56             Female  19.0             Nursing    \n",
      "99   13/07/2020 21:23:57             Female  23.0     Pendidikan Islam   \n",
      "100  18/07/2020 20:16:21               Male  20.0   Biomedical science   \n",
      "\n",
      "    Your current year of Study What is your CGPA? Marital status  \\\n",
      "0                       year 1        3.00 - 3.49             No   \n",
      "1                       year 2        3.00 - 3.49             No   \n",
      "2                       Year 1        3.00 - 3.49             No   \n",
      "3                       year 3        3.00 - 3.49            Yes   \n",
      "4                       year 4        3.00 - 3.49             No   \n",
      "..                         ...                ...            ...   \n",
      "96                      year 1        3.50 - 4.00             No   \n",
      "97                      Year 2        3.00 - 3.49             No   \n",
      "98                      Year 3        3.50 - 4.00            Yes   \n",
      "99                      year 4        3.50 - 4.00             No   \n",
      "100                     Year 2        3.00 - 3.49             No   \n",
      "\n",
      "    Do you have Depression? Do you have Anxiety? Do you have Panic attack?  \\\n",
      "0                       Yes                   No                       Yes   \n",
      "1                        No                  Yes                        No   \n",
      "2                       Yes                  Yes                       Yes   \n",
      "3                       Yes                   No                        No   \n",
      "4                        No                   No                        No   \n",
      "..                      ...                  ...                       ...   \n",
      "96                       No                  Yes                        No   \n",
      "97                      Yes                  Yes                        No   \n",
      "98                      Yes                   No                       Yes   \n",
      "99                       No                   No                        No   \n",
      "100                      No                   No                        No   \n",
      "\n",
      "    Did you seek any specialist for a treatment?  \n",
      "0                                             No  \n",
      "1                                             No  \n",
      "2                                             No  \n",
      "3                                             No  \n",
      "4                                             No  \n",
      "..                                           ...  \n",
      "96                                            No  \n",
      "97                                            No  \n",
      "98                                            No  \n",
      "99                                            No  \n",
      "100                                           No  \n",
      "\n",
      "[101 rows x 11 columns]\n"
     ]
    }
   ],
   "source": [
    "import pandas as pd #read csv,coma,sepreator,value\n",
    "d=pd.read_csv(\"C:\\\\Users\\\\C S\\\\Desktop\\\\Student Mental health\\Student Mental health.csv\")\n",
    "df=pd.DataFrame(d)\n",
    "print(d)"
   ]
  },
  {
   "cell_type": "code",
   "execution_count": 9,
   "id": "756d0d7b-6801-4be8-9612-ab0a50e40f34",
   "metadata": {
    "scrolled": true
   },
   "outputs": [
    {
     "data": {
      "text/html": [
       "<div>\n",
       "<style scoped>\n",
       "    .dataframe tbody tr th:only-of-type {\n",
       "        vertical-align: middle;\n",
       "    }\n",
       "\n",
       "    .dataframe tbody tr th {\n",
       "        vertical-align: top;\n",
       "    }\n",
       "\n",
       "    .dataframe thead th {\n",
       "        text-align: right;\n",
       "    }\n",
       "</style>\n",
       "<table border=\"1\" class=\"dataframe\">\n",
       "  <thead>\n",
       "    <tr style=\"text-align: right;\">\n",
       "      <th></th>\n",
       "      <th>Timestamp</th>\n",
       "      <th>Choose your gender</th>\n",
       "      <th>Age</th>\n",
       "      <th>What is your course?</th>\n",
       "      <th>Your current year of Study</th>\n",
       "      <th>What is your CGPA?</th>\n",
       "      <th>Marital status</th>\n",
       "      <th>Do you have Depression?</th>\n",
       "      <th>Do you have Anxiety?</th>\n",
       "      <th>Do you have Panic attack?</th>\n",
       "      <th>Did you seek any specialist for a treatment?</th>\n",
       "    </tr>\n",
       "  </thead>\n",
       "  <tbody>\n",
       "    <tr>\n",
       "      <th>0</th>\n",
       "      <td>8/7/2020 12:02</td>\n",
       "      <td>Female</td>\n",
       "      <td>18.0</td>\n",
       "      <td>Engineering</td>\n",
       "      <td>year 1</td>\n",
       "      <td>3.00 - 3.49</td>\n",
       "      <td>No</td>\n",
       "      <td>Yes</td>\n",
       "      <td>No</td>\n",
       "      <td>Yes</td>\n",
       "      <td>No</td>\n",
       "    </tr>\n",
       "    <tr>\n",
       "      <th>1</th>\n",
       "      <td>8/7/2020 12:04</td>\n",
       "      <td>Male</td>\n",
       "      <td>21.0</td>\n",
       "      <td>Islamic education</td>\n",
       "      <td>year 2</td>\n",
       "      <td>3.00 - 3.49</td>\n",
       "      <td>No</td>\n",
       "      <td>No</td>\n",
       "      <td>Yes</td>\n",
       "      <td>No</td>\n",
       "      <td>No</td>\n",
       "    </tr>\n",
       "    <tr>\n",
       "      <th>2</th>\n",
       "      <td>8/7/2020 12:05</td>\n",
       "      <td>Male</td>\n",
       "      <td>19.0</td>\n",
       "      <td>BIT</td>\n",
       "      <td>Year 1</td>\n",
       "      <td>3.00 - 3.49</td>\n",
       "      <td>No</td>\n",
       "      <td>Yes</td>\n",
       "      <td>Yes</td>\n",
       "      <td>Yes</td>\n",
       "      <td>No</td>\n",
       "    </tr>\n",
       "    <tr>\n",
       "      <th>3</th>\n",
       "      <td>8/7/2020 12:06</td>\n",
       "      <td>Female</td>\n",
       "      <td>22.0</td>\n",
       "      <td>Laws</td>\n",
       "      <td>year 3</td>\n",
       "      <td>3.00 - 3.49</td>\n",
       "      <td>Yes</td>\n",
       "      <td>Yes</td>\n",
       "      <td>No</td>\n",
       "      <td>No</td>\n",
       "      <td>No</td>\n",
       "    </tr>\n",
       "    <tr>\n",
       "      <th>4</th>\n",
       "      <td>8/7/2020 12:13</td>\n",
       "      <td>Male</td>\n",
       "      <td>23.0</td>\n",
       "      <td>Mathemathics</td>\n",
       "      <td>year 4</td>\n",
       "      <td>3.00 - 3.49</td>\n",
       "      <td>No</td>\n",
       "      <td>No</td>\n",
       "      <td>No</td>\n",
       "      <td>No</td>\n",
       "      <td>No</td>\n",
       "    </tr>\n",
       "  </tbody>\n",
       "</table>\n",
       "</div>"
      ],
      "text/plain": [
       "        Timestamp Choose your gender   Age What is your course?  \\\n",
       "0  8/7/2020 12:02             Female  18.0          Engineering   \n",
       "1  8/7/2020 12:04               Male  21.0    Islamic education   \n",
       "2  8/7/2020 12:05               Male  19.0                  BIT   \n",
       "3  8/7/2020 12:06             Female  22.0                 Laws   \n",
       "4  8/7/2020 12:13               Male  23.0         Mathemathics   \n",
       "\n",
       "  Your current year of Study What is your CGPA? Marital status  \\\n",
       "0                     year 1        3.00 - 3.49             No   \n",
       "1                     year 2        3.00 - 3.49             No   \n",
       "2                     Year 1        3.00 - 3.49             No   \n",
       "3                     year 3        3.00 - 3.49            Yes   \n",
       "4                     year 4        3.00 - 3.49             No   \n",
       "\n",
       "  Do you have Depression? Do you have Anxiety? Do you have Panic attack?  \\\n",
       "0                     Yes                   No                       Yes   \n",
       "1                      No                  Yes                        No   \n",
       "2                     Yes                  Yes                       Yes   \n",
       "3                     Yes                   No                        No   \n",
       "4                      No                   No                        No   \n",
       "\n",
       "  Did you seek any specialist for a treatment?  \n",
       "0                                           No  \n",
       "1                                           No  \n",
       "2                                           No  \n",
       "3                                           No  \n",
       "4                                           No  "
      ]
     },
     "execution_count": 9,
     "metadata": {},
     "output_type": "execute_result"
    }
   ],
   "source": [
    "df.head() #top five team record take by default value 5 using head"
   ]
  },
  {
   "cell_type": "code",
   "execution_count": 10,
   "id": "b9c6e268-0243-4570-9bb8-f3e35ec01a35",
   "metadata": {},
   "outputs": [
    {
     "data": {
      "text/html": [
       "<div>\n",
       "<style scoped>\n",
       "    .dataframe tbody tr th:only-of-type {\n",
       "        vertical-align: middle;\n",
       "    }\n",
       "\n",
       "    .dataframe tbody tr th {\n",
       "        vertical-align: top;\n",
       "    }\n",
       "\n",
       "    .dataframe thead th {\n",
       "        text-align: right;\n",
       "    }\n",
       "</style>\n",
       "<table border=\"1\" class=\"dataframe\">\n",
       "  <thead>\n",
       "    <tr style=\"text-align: right;\">\n",
       "      <th></th>\n",
       "      <th>Timestamp</th>\n",
       "      <th>Choose your gender</th>\n",
       "      <th>Age</th>\n",
       "      <th>What is your course?</th>\n",
       "      <th>Your current year of Study</th>\n",
       "      <th>What is your CGPA?</th>\n",
       "      <th>Marital status</th>\n",
       "      <th>Do you have Depression?</th>\n",
       "      <th>Do you have Anxiety?</th>\n",
       "      <th>Do you have Panic attack?</th>\n",
       "      <th>Did you seek any specialist for a treatment?</th>\n",
       "    </tr>\n",
       "  </thead>\n",
       "  <tbody>\n",
       "    <tr>\n",
       "      <th>96</th>\n",
       "      <td>13/07/2020 19:56:49</td>\n",
       "      <td>Female</td>\n",
       "      <td>21.0</td>\n",
       "      <td>BCS</td>\n",
       "      <td>year 1</td>\n",
       "      <td>3.50 - 4.00</td>\n",
       "      <td>No</td>\n",
       "      <td>No</td>\n",
       "      <td>Yes</td>\n",
       "      <td>No</td>\n",
       "      <td>No</td>\n",
       "    </tr>\n",
       "    <tr>\n",
       "      <th>97</th>\n",
       "      <td>13/07/2020 21:21:42</td>\n",
       "      <td>Male</td>\n",
       "      <td>18.0</td>\n",
       "      <td>Engineering</td>\n",
       "      <td>Year 2</td>\n",
       "      <td>3.00 - 3.49</td>\n",
       "      <td>No</td>\n",
       "      <td>Yes</td>\n",
       "      <td>Yes</td>\n",
       "      <td>No</td>\n",
       "      <td>No</td>\n",
       "    </tr>\n",
       "    <tr>\n",
       "      <th>98</th>\n",
       "      <td>13/07/2020 21:22:56</td>\n",
       "      <td>Female</td>\n",
       "      <td>19.0</td>\n",
       "      <td>Nursing</td>\n",
       "      <td>Year 3</td>\n",
       "      <td>3.50 - 4.00</td>\n",
       "      <td>Yes</td>\n",
       "      <td>Yes</td>\n",
       "      <td>No</td>\n",
       "      <td>Yes</td>\n",
       "      <td>No</td>\n",
       "    </tr>\n",
       "    <tr>\n",
       "      <th>99</th>\n",
       "      <td>13/07/2020 21:23:57</td>\n",
       "      <td>Female</td>\n",
       "      <td>23.0</td>\n",
       "      <td>Pendidikan Islam</td>\n",
       "      <td>year 4</td>\n",
       "      <td>3.50 - 4.00</td>\n",
       "      <td>No</td>\n",
       "      <td>No</td>\n",
       "      <td>No</td>\n",
       "      <td>No</td>\n",
       "      <td>No</td>\n",
       "    </tr>\n",
       "    <tr>\n",
       "      <th>100</th>\n",
       "      <td>18/07/2020 20:16:21</td>\n",
       "      <td>Male</td>\n",
       "      <td>20.0</td>\n",
       "      <td>Biomedical science</td>\n",
       "      <td>Year 2</td>\n",
       "      <td>3.00 - 3.49</td>\n",
       "      <td>No</td>\n",
       "      <td>No</td>\n",
       "      <td>No</td>\n",
       "      <td>No</td>\n",
       "      <td>No</td>\n",
       "    </tr>\n",
       "  </tbody>\n",
       "</table>\n",
       "</div>"
      ],
      "text/plain": [
       "               Timestamp Choose your gender   Age What is your course?  \\\n",
       "96   13/07/2020 19:56:49             Female  21.0                  BCS   \n",
       "97   13/07/2020 21:21:42               Male  18.0          Engineering   \n",
       "98   13/07/2020 21:22:56             Female  19.0             Nursing    \n",
       "99   13/07/2020 21:23:57             Female  23.0     Pendidikan Islam   \n",
       "100  18/07/2020 20:16:21               Male  20.0   Biomedical science   \n",
       "\n",
       "    Your current year of Study What is your CGPA? Marital status  \\\n",
       "96                      year 1        3.50 - 4.00             No   \n",
       "97                      Year 2        3.00 - 3.49             No   \n",
       "98                      Year 3        3.50 - 4.00            Yes   \n",
       "99                      year 4        3.50 - 4.00             No   \n",
       "100                     Year 2        3.00 - 3.49             No   \n",
       "\n",
       "    Do you have Depression? Do you have Anxiety? Do you have Panic attack?  \\\n",
       "96                       No                  Yes                        No   \n",
       "97                      Yes                  Yes                        No   \n",
       "98                      Yes                   No                       Yes   \n",
       "99                       No                   No                        No   \n",
       "100                      No                   No                        No   \n",
       "\n",
       "    Did you seek any specialist for a treatment?  \n",
       "96                                            No  \n",
       "97                                            No  \n",
       "98                                            No  \n",
       "99                                            No  \n",
       "100                                           No  "
      ]
     },
     "execution_count": 10,
     "metadata": {},
     "output_type": "execute_result"
    }
   ],
   "source": [
    "df.tail() # last five using tail tag get last f value "
   ]
  },
  {
   "cell_type": "code",
   "execution_count": 11,
   "id": "686022c5-0ed1-4074-a10f-f956fe68fbbf",
   "metadata": {},
   "outputs": [
    {
     "data": {
      "text/html": [
       "<div>\n",
       "<style scoped>\n",
       "    .dataframe tbody tr th:only-of-type {\n",
       "        vertical-align: middle;\n",
       "    }\n",
       "\n",
       "    .dataframe tbody tr th {\n",
       "        vertical-align: top;\n",
       "    }\n",
       "\n",
       "    .dataframe thead th {\n",
       "        text-align: right;\n",
       "    }\n",
       "</style>\n",
       "<table border=\"1\" class=\"dataframe\">\n",
       "  <thead>\n",
       "    <tr style=\"text-align: right;\">\n",
       "      <th></th>\n",
       "      <th>Timestamp</th>\n",
       "      <th>Choose your gender</th>\n",
       "      <th>Age</th>\n",
       "      <th>What is your course?</th>\n",
       "      <th>Your current year of Study</th>\n",
       "      <th>What is your CGPA?</th>\n",
       "      <th>Marital status</th>\n",
       "      <th>Do you have Depression?</th>\n",
       "      <th>Do you have Anxiety?</th>\n",
       "      <th>Do you have Panic attack?</th>\n",
       "      <th>Did you seek any specialist for a treatment?</th>\n",
       "    </tr>\n",
       "  </thead>\n",
       "  <tbody>\n",
       "    <tr>\n",
       "      <th>0</th>\n",
       "      <td>8/7/2020 12:02</td>\n",
       "      <td>Female</td>\n",
       "      <td>18.0</td>\n",
       "      <td>Engineering</td>\n",
       "      <td>year 1</td>\n",
       "      <td>3.00 - 3.49</td>\n",
       "      <td>No</td>\n",
       "      <td>Yes</td>\n",
       "      <td>No</td>\n",
       "      <td>Yes</td>\n",
       "      <td>No</td>\n",
       "    </tr>\n",
       "    <tr>\n",
       "      <th>1</th>\n",
       "      <td>8/7/2020 12:04</td>\n",
       "      <td>Male</td>\n",
       "      <td>21.0</td>\n",
       "      <td>Islamic education</td>\n",
       "      <td>year 2</td>\n",
       "      <td>3.00 - 3.49</td>\n",
       "      <td>No</td>\n",
       "      <td>No</td>\n",
       "      <td>Yes</td>\n",
       "      <td>No</td>\n",
       "      <td>No</td>\n",
       "    </tr>\n",
       "    <tr>\n",
       "      <th>2</th>\n",
       "      <td>8/7/2020 12:05</td>\n",
       "      <td>Male</td>\n",
       "      <td>19.0</td>\n",
       "      <td>BIT</td>\n",
       "      <td>Year 1</td>\n",
       "      <td>3.00 - 3.49</td>\n",
       "      <td>No</td>\n",
       "      <td>Yes</td>\n",
       "      <td>Yes</td>\n",
       "      <td>Yes</td>\n",
       "      <td>No</td>\n",
       "    </tr>\n",
       "  </tbody>\n",
       "</table>\n",
       "</div>"
      ],
      "text/plain": [
       "        Timestamp Choose your gender   Age What is your course?  \\\n",
       "0  8/7/2020 12:02             Female  18.0          Engineering   \n",
       "1  8/7/2020 12:04               Male  21.0    Islamic education   \n",
       "2  8/7/2020 12:05               Male  19.0                  BIT   \n",
       "\n",
       "  Your current year of Study What is your CGPA? Marital status  \\\n",
       "0                     year 1        3.00 - 3.49             No   \n",
       "1                     year 2        3.00 - 3.49             No   \n",
       "2                     Year 1        3.00 - 3.49             No   \n",
       "\n",
       "  Do you have Depression? Do you have Anxiety? Do you have Panic attack?  \\\n",
       "0                     Yes                   No                       Yes   \n",
       "1                      No                  Yes                        No   \n",
       "2                     Yes                  Yes                       Yes   \n",
       "\n",
       "  Did you seek any specialist for a treatment?  \n",
       "0                                           No  \n",
       "1                                           No  \n",
       "2                                           No  "
      ]
     },
     "execution_count": 11,
     "metadata": {},
     "output_type": "execute_result"
    }
   ],
   "source": [
    "import pandas as pd\n",
    "df=pd.read_csv(\"C:\\\\Users\\\\C S\\\\Desktop\\\\Student Mental health\\Student Mental health.csv\")\n",
    "df.head(3)"
   ]
  },
  {
   "cell_type": "code",
   "execution_count": 13,
   "id": "9f411c98-262c-451d-87d0-8b142c9edf35",
   "metadata": {},
   "outputs": [
    {
     "data": {
      "text/plain": [
       "Index(['Timestamp', 'Choose your gender', 'Age', 'What is your course?',\n",
       "       'Your current year of Study', 'What is your CGPA?', 'Marital status',\n",
       "       'Do you have Depression?', 'Do you have Anxiety?',\n",
       "       'Do you have Panic attack?',\n",
       "       'Did you seek any specialist for a treatment?'],\n",
       "      dtype='object')"
      ]
     },
     "execution_count": 13,
     "metadata": {},
     "output_type": "execute_result"
    }
   ],
   "source": [
    "import pandas as pd\n",
    "df=pd.read_csv(\"C:\\\\Users\\\\C S\\\\Desktop\\\\Student Mental health\\Student Mental health.csv\")\n",
    "df.columns"
   ]
  },
  {
   "cell_type": "code",
   "execution_count": 14,
   "id": "d33b67d7-9269-46f7-9ece-f01ee150dacb",
   "metadata": {},
   "outputs": [
    {
     "data": {
      "text/plain": [
       "RangeIndex(start=0, stop=101, step=1)"
      ]
     },
     "execution_count": 14,
     "metadata": {},
     "output_type": "execute_result"
    }
   ],
   "source": [
    "import pandas as pd\n",
    "df=pd.read_csv(\"C:\\\\Users\\\\C S\\\\Desktop\\\\Student Mental health\\Student Mental health.csv\")\n",
    "df.index"
   ]
  },
  {
   "cell_type": "code",
   "execution_count": 15,
   "id": "7585502e-0815-432c-b4d8-cc5112da833d",
   "metadata": {},
   "outputs": [
    {
     "data": {
      "text/plain": [
       "0      18.0\n",
       "1      21.0\n",
       "2      19.0\n",
       "3      22.0\n",
       "4      23.0\n",
       "       ... \n",
       "96     21.0\n",
       "97     18.0\n",
       "98     19.0\n",
       "99     23.0\n",
       "100    20.0\n",
       "Name: Age, Length: 101, dtype: float64"
      ]
     },
     "execution_count": 15,
     "metadata": {},
     "output_type": "execute_result"
    }
   ],
   "source": [
    "import pandas as pd\n",
    "df=pd.read_csv(\"C:\\\\Users\\\\C S\\\\Desktop\\\\Student Mental health\\Student Mental health.csv\")\n",
    "df['Age']"
   ]
  },
  {
   "cell_type": "code",
   "execution_count": 16,
   "id": "95dcfa81-1b25-443e-9be9-eace8619408d",
   "metadata": {},
   "outputs": [
    {
     "data": {
      "text/plain": [
       "0      18.0\n",
       "1      21.0\n",
       "2      19.0\n",
       "3      22.0\n",
       "4      23.0\n",
       "       ... \n",
       "96     21.0\n",
       "97     18.0\n",
       "98     19.0\n",
       "99     23.0\n",
       "100    20.0\n",
       "Name: Age, Length: 101, dtype: float64"
      ]
     },
     "execution_count": 16,
     "metadata": {},
     "output_type": "execute_result"
    }
   ],
   "source": [
    "import pandas as pd\n",
    "df=pd.read_csv(\"C:\\\\Users\\\\C S\\\\Desktop\\\\Student Mental health\\Student Mental health.csv\")\n",
    "df.Age"
   ]
  },
  {
   "cell_type": "code",
   "execution_count": 18,
   "id": "750ac70c-78a1-4fb7-a65e-9a01d64ae2a9",
   "metadata": {},
   "outputs": [
    {
     "data": {
      "text/html": [
       "<div>\n",
       "<style scoped>\n",
       "    .dataframe tbody tr th:only-of-type {\n",
       "        vertical-align: middle;\n",
       "    }\n",
       "\n",
       "    .dataframe tbody tr th {\n",
       "        vertical-align: top;\n",
       "    }\n",
       "\n",
       "    .dataframe thead th {\n",
       "        text-align: right;\n",
       "    }\n",
       "</style>\n",
       "<table border=\"1\" class=\"dataframe\">\n",
       "  <thead>\n",
       "    <tr style=\"text-align: right;\">\n",
       "      <th></th>\n",
       "      <th>Age</th>\n",
       "      <th>Choose your gender</th>\n",
       "    </tr>\n",
       "  </thead>\n",
       "  <tbody>\n",
       "    <tr>\n",
       "      <th>0</th>\n",
       "      <td>18.0</td>\n",
       "      <td>Female</td>\n",
       "    </tr>\n",
       "    <tr>\n",
       "      <th>1</th>\n",
       "      <td>21.0</td>\n",
       "      <td>Male</td>\n",
       "    </tr>\n",
       "    <tr>\n",
       "      <th>2</th>\n",
       "      <td>19.0</td>\n",
       "      <td>Male</td>\n",
       "    </tr>\n",
       "    <tr>\n",
       "      <th>3</th>\n",
       "      <td>22.0</td>\n",
       "      <td>Female</td>\n",
       "    </tr>\n",
       "    <tr>\n",
       "      <th>4</th>\n",
       "      <td>23.0</td>\n",
       "      <td>Male</td>\n",
       "    </tr>\n",
       "    <tr>\n",
       "      <th>...</th>\n",
       "      <td>...</td>\n",
       "      <td>...</td>\n",
       "    </tr>\n",
       "    <tr>\n",
       "      <th>96</th>\n",
       "      <td>21.0</td>\n",
       "      <td>Female</td>\n",
       "    </tr>\n",
       "    <tr>\n",
       "      <th>97</th>\n",
       "      <td>18.0</td>\n",
       "      <td>Male</td>\n",
       "    </tr>\n",
       "    <tr>\n",
       "      <th>98</th>\n",
       "      <td>19.0</td>\n",
       "      <td>Female</td>\n",
       "    </tr>\n",
       "    <tr>\n",
       "      <th>99</th>\n",
       "      <td>23.0</td>\n",
       "      <td>Female</td>\n",
       "    </tr>\n",
       "    <tr>\n",
       "      <th>100</th>\n",
       "      <td>20.0</td>\n",
       "      <td>Male</td>\n",
       "    </tr>\n",
       "  </tbody>\n",
       "</table>\n",
       "<p>101 rows × 2 columns</p>\n",
       "</div>"
      ],
      "text/plain": [
       "      Age Choose your gender\n",
       "0    18.0             Female\n",
       "1    21.0               Male\n",
       "2    19.0               Male\n",
       "3    22.0             Female\n",
       "4    23.0               Male\n",
       "..    ...                ...\n",
       "96   21.0             Female\n",
       "97   18.0               Male\n",
       "98   19.0             Female\n",
       "99   23.0             Female\n",
       "100  20.0               Male\n",
       "\n",
       "[101 rows x 2 columns]"
      ]
     },
     "execution_count": 18,
     "metadata": {},
     "output_type": "execute_result"
    }
   ],
   "source": [
    "df[[\"Age\",\"Choose your gender\"]]"
   ]
  },
  {
   "cell_type": "code",
   "execution_count": 19,
   "id": "e071e44a-73f9-4403-98e4-5d8795546662",
   "metadata": {},
   "outputs": [
    {
     "data": {
      "text/plain": [
       "1    21.0\n",
       "2    19.0\n",
       "3    22.0\n",
       "4    23.0\n",
       "5    19.0\n",
       "Name: Age, dtype: float64"
      ]
     },
     "execution_count": 19,
     "metadata": {},
     "output_type": "execute_result"
    }
   ],
   "source": [
    "df.Age[1:6]"
   ]
  },
  {
   "cell_type": "code",
   "execution_count": 20,
   "id": "8a843ecc-c941-4776-8710-88a90147d30e",
   "metadata": {},
   "outputs": [
    {
     "data": {
      "text/plain": [
       "22.0"
      ]
     },
     "execution_count": 20,
     "metadata": {},
     "output_type": "execute_result"
    }
   ],
   "source": [
    "df.loc[3,\"Age\"]"
   ]
  },
  {
   "cell_type": "code",
   "execution_count": 21,
   "id": "f78e722a-4d2f-4877-b56c-a7b5fcb67cb8",
   "metadata": {},
   "outputs": [
    {
     "data": {
      "text/plain": [
       "'BCS'"
      ]
     },
     "execution_count": 21,
     "metadata": {},
     "output_type": "execute_result"
    }
   ],
   "source": [
    "df.loc[96,\"What is your course?\"]"
   ]
  },
  {
   "cell_type": "code",
   "execution_count": 22,
   "id": "17815b87-f5c8-4392-93d4-1507d68351c8",
   "metadata": {},
   "outputs": [
    {
     "data": {
      "text/html": [
       "<div>\n",
       "<style scoped>\n",
       "    .dataframe tbody tr th:only-of-type {\n",
       "        vertical-align: middle;\n",
       "    }\n",
       "\n",
       "    .dataframe tbody tr th {\n",
       "        vertical-align: top;\n",
       "    }\n",
       "\n",
       "    .dataframe thead th {\n",
       "        text-align: right;\n",
       "    }\n",
       "</style>\n",
       "<table border=\"1\" class=\"dataframe\">\n",
       "  <thead>\n",
       "    <tr style=\"text-align: right;\">\n",
       "      <th></th>\n",
       "      <th>Age</th>\n",
       "      <th>What is your course?</th>\n",
       "    </tr>\n",
       "  </thead>\n",
       "  <tbody>\n",
       "    <tr>\n",
       "      <th>0</th>\n",
       "      <td>18.0</td>\n",
       "      <td>Engineering</td>\n",
       "    </tr>\n",
       "    <tr>\n",
       "      <th>1</th>\n",
       "      <td>21.0</td>\n",
       "      <td>Islamic education</td>\n",
       "    </tr>\n",
       "    <tr>\n",
       "      <th>2</th>\n",
       "      <td>19.0</td>\n",
       "      <td>BIT</td>\n",
       "    </tr>\n",
       "    <tr>\n",
       "      <th>3</th>\n",
       "      <td>22.0</td>\n",
       "      <td>Laws</td>\n",
       "    </tr>\n",
       "    <tr>\n",
       "      <th>4</th>\n",
       "      <td>23.0</td>\n",
       "      <td>Mathemathics</td>\n",
       "    </tr>\n",
       "  </tbody>\n",
       "</table>\n",
       "</div>"
      ],
      "text/plain": [
       "    Age What is your course?\n",
       "0  18.0          Engineering\n",
       "1  21.0    Islamic education\n",
       "2  19.0                  BIT\n",
       "3  22.0                 Laws\n",
       "4  23.0         Mathemathics"
      ]
     },
     "execution_count": 22,
     "metadata": {},
     "output_type": "execute_result"
    }
   ],
   "source": [
    "df.loc[0:4,\"Age\":\"What is your course?\"]"
   ]
  },
  {
   "cell_type": "code",
   "execution_count": 23,
   "id": "e58c50ee-1261-4720-95f7-705402c07965",
   "metadata": {},
   "outputs": [
    {
     "data": {
      "text/html": [
       "<div>\n",
       "<style scoped>\n",
       "    .dataframe tbody tr th:only-of-type {\n",
       "        vertical-align: middle;\n",
       "    }\n",
       "\n",
       "    .dataframe tbody tr th {\n",
       "        vertical-align: top;\n",
       "    }\n",
       "\n",
       "    .dataframe thead th {\n",
       "        text-align: right;\n",
       "    }\n",
       "</style>\n",
       "<table border=\"1\" class=\"dataframe\">\n",
       "  <thead>\n",
       "    <tr style=\"text-align: right;\">\n",
       "      <th></th>\n",
       "      <th>Age</th>\n",
       "      <th>What is your course?</th>\n",
       "    </tr>\n",
       "  </thead>\n",
       "  <tbody>\n",
       "    <tr>\n",
       "      <th>0</th>\n",
       "      <td>18.0</td>\n",
       "      <td>Engineering</td>\n",
       "    </tr>\n",
       "    <tr>\n",
       "      <th>5</th>\n",
       "      <td>19.0</td>\n",
       "      <td>Engineering</td>\n",
       "    </tr>\n",
       "    <tr>\n",
       "      <th>9</th>\n",
       "      <td>18.0</td>\n",
       "      <td>Irkhs</td>\n",
       "    </tr>\n",
       "  </tbody>\n",
       "</table>\n",
       "</div>"
      ],
      "text/plain": [
       "    Age What is your course?\n",
       "0  18.0          Engineering\n",
       "5  19.0          Engineering\n",
       "9  18.0                Irkhs"
      ]
     },
     "execution_count": 23,
     "metadata": {},
     "output_type": "execute_result"
    }
   ],
   "source": [
    "df.loc[[0,5,9],[\"Age\",\"What is your course?\"]]"
   ]
  },
  {
   "cell_type": "code",
   "execution_count": 24,
   "id": "94e872a0-5e25-4dd6-8936-609257dd215c",
   "metadata": {},
   "outputs": [
    {
     "data": {
      "text/plain": [
       "20.53"
      ]
     },
     "execution_count": 24,
     "metadata": {},
     "output_type": "execute_result"
    }
   ],
   "source": [
    "df.Age.mean()"
   ]
  },
  {
   "cell_type": "code",
   "execution_count": 25,
   "id": "969094a0-ca29-4a6e-b105-c928a34f5911",
   "metadata": {},
   "outputs": [
    {
     "data": {
      "text/plain": [
       "'Yes'"
      ]
     },
     "execution_count": 25,
     "metadata": {},
     "output_type": "execute_result"
    }
   ],
   "source": [
    "df[\"Do you have Panic attack?\"].max()"
   ]
  },
  {
   "cell_type": "code",
   "execution_count": 26,
   "id": "1ae5a8cd-e057-40cf-b1a2-10559a032bbf",
   "metadata": {},
   "outputs": [
    {
     "data": {
      "text/html": [
       "<div>\n",
       "<style scoped>\n",
       "    .dataframe tbody tr th:only-of-type {\n",
       "        vertical-align: middle;\n",
       "    }\n",
       "\n",
       "    .dataframe tbody tr th {\n",
       "        vertical-align: top;\n",
       "    }\n",
       "\n",
       "    .dataframe thead th {\n",
       "        text-align: right;\n",
       "    }\n",
       "</style>\n",
       "<table border=\"1\" class=\"dataframe\">\n",
       "  <thead>\n",
       "    <tr style=\"text-align: right;\">\n",
       "      <th></th>\n",
       "      <th>Age</th>\n",
       "    </tr>\n",
       "  </thead>\n",
       "  <tbody>\n",
       "    <tr>\n",
       "      <th>count</th>\n",
       "      <td>100.00000</td>\n",
       "    </tr>\n",
       "    <tr>\n",
       "      <th>mean</th>\n",
       "      <td>20.53000</td>\n",
       "    </tr>\n",
       "    <tr>\n",
       "      <th>std</th>\n",
       "      <td>2.49628</td>\n",
       "    </tr>\n",
       "    <tr>\n",
       "      <th>min</th>\n",
       "      <td>18.00000</td>\n",
       "    </tr>\n",
       "    <tr>\n",
       "      <th>25%</th>\n",
       "      <td>18.00000</td>\n",
       "    </tr>\n",
       "    <tr>\n",
       "      <th>50%</th>\n",
       "      <td>19.00000</td>\n",
       "    </tr>\n",
       "    <tr>\n",
       "      <th>75%</th>\n",
       "      <td>23.00000</td>\n",
       "    </tr>\n",
       "    <tr>\n",
       "      <th>max</th>\n",
       "      <td>24.00000</td>\n",
       "    </tr>\n",
       "  </tbody>\n",
       "</table>\n",
       "</div>"
      ],
      "text/plain": [
       "             Age\n",
       "count  100.00000\n",
       "mean    20.53000\n",
       "std      2.49628\n",
       "min     18.00000\n",
       "25%     18.00000\n",
       "50%     19.00000\n",
       "75%     23.00000\n",
       "max     24.00000"
      ]
     },
     "execution_count": 26,
     "metadata": {},
     "output_type": "execute_result"
    }
   ],
   "source": [
    "df.describe()"
   ]
  },
  {
   "cell_type": "code",
   "execution_count": 27,
   "id": "b74ec399-a5d3-4399-b7cb-6e3c0eefe2ec",
   "metadata": {},
   "outputs": [
    {
     "data": {
      "text/plain": [
       "What is your course?\n",
       "BCS                        18\n",
       "Engineering                17\n",
       "BIT                        10\n",
       "Biomedical science          4\n",
       "KOE                         4\n",
       "BENL                        2\n",
       "Laws                        2\n",
       "psychology                  2\n",
       "Engine                      2\n",
       "Islamic Education           1\n",
       "Biotechnology               1\n",
       "engin                       1\n",
       "Econs                       1\n",
       "MHSC                        1\n",
       "Malcom                      1\n",
       "Kop                         1\n",
       "Human Sciences              1\n",
       "Communication               1\n",
       "Nursing                     1\n",
       "Diploma Nursing             1\n",
       "IT                          1\n",
       "Pendidikan Islam            1\n",
       "Radiography                 1\n",
       "Fiqh fatwa                  1\n",
       "DIPLOMA TESL                1\n",
       "Koe                         1\n",
       "Fiqh                        1\n",
       "CTS                         1\n",
       "koe                         1\n",
       "Benl                        1\n",
       "Kirkhs                      1\n",
       "Mathemathics                1\n",
       "Pendidikan islam            1\n",
       "Human Resources             1\n",
       "Irkhs                       1\n",
       "Psychology                  1\n",
       "KENMS                       1\n",
       "Accounting                  1\n",
       "ENM                         1\n",
       "Marine science              1\n",
       "Banking Studies             1\n",
       "Business Administration     1\n",
       "Law                         1\n",
       "KIRKHS                      1\n",
       "Usuluddin                   1\n",
       "TAASL                       1\n",
       "ALA                         1\n",
       "Islamic education           1\n",
       "Pendidikan Islam            1\n",
       "Name: count, dtype: int64"
      ]
     },
     "execution_count": 27,
     "metadata": {},
     "output_type": "execute_result"
    }
   ],
   "source": [
    "df[\"What is your course?\"].value_counts()"
   ]
  },
  {
   "cell_type": "code",
   "execution_count": 28,
   "id": "e7e1ef25-f331-441a-8284-e41240dcc35d",
   "metadata": {},
   "outputs": [
    {
     "data": {
      "text/plain": [
       "array([18., 21., 19., 22., 23., 20., 24., nan])"
      ]
     },
     "execution_count": 28,
     "metadata": {},
     "output_type": "execute_result"
    }
   ],
   "source": [
    "df[\"Age\"].unique()"
   ]
  },
  {
   "cell_type": "code",
   "execution_count": 31,
   "id": "50cb4319-9222-4cec-b1ce-bf2e8bbf39e0",
   "metadata": {},
   "outputs": [],
   "source": [
    "import matplotlib.pyplot as plt"
   ]
  },
  {
   "cell_type": "code",
   "execution_count": 32,
   "id": "6e278810-8fb6-45b4-bd80-6704eff766a1",
   "metadata": {},
   "outputs": [
    {
     "data": {
      "image/png": "[encoded data removed]",
      "text/plain": [
       "<Figure size 640x480 with 1 Axes>"
      ]
     },
     "metadata": {},
     "output_type": "display_data"
    }
   ],
   "source": [
    "\n",
    "df=pd.read_csv(\"C:\\\\Users\\\\C S\\\\Desktop\\\\Student Mental health\\Student Mental health.csv\")\n",
    "x=['Age ','course',  'study']\n",
    "y=[ 18.0,            'Engineering',            'year1']\n",
    "plt.plot(x,y)\n",
    "plt.xlabel('column name')\n",
    "plt.ylabel(' medal')\n",
    "plt.title('LINE GRAPH')\n",
    "plt.show()\n",
    "\n"
   ]
  },
  {
   "cell_type": "markdown",
   "id": "2a53fffb-2017-49c9-931d-95a159949054",
   "metadata": {},
   "source": [
    "# SIMPLE REGRESSION"
   ]
  },
  {
   "cell_type": "code",
   "execution_count": 45,
   "id": "af329d21-dc79-41f5-811f-30845096896b",
   "metadata": {},
   "outputs": [
    {
     "data": {
      "image/png": "[encoded data removed]",
      "text/plain": [
       "<Figure size 1000x600 with 1 Axes>"
      ]
     },
     "metadata": {},
     "output_type": "display_data"
    }
   ],
   "source": [
    "import pandas as pd\n",
    "import matplotlib.pyplot as plt\n",
    "from sklearn.linear_model import LinearRegression\n",
    "\n",
    "# Data\n",
    "data = {\n",
    "    'Course': ['Engineering', 'Islamic Education', 'BIT', 'Laws', 'Mathematics', 'Engineering', 'Pendidikan Islam',\n",
    "               'BCS', 'Human Resources', 'Irkhs', 'Psychology', 'Engineering', 'BCS', 'Engineering', 'KENMS', 'BCS',\n",
    "               'Accounting', 'ENM', 'BIT', 'Marine Science', 'Engineering', 'KOE', 'BCS'],\n",
    "    'Year': [1, 2, 3, 3, 4, 2, 2, 1, 2, 1, 1, 3, 1, 1, 2, 3, 3, 4, 2, 2, 1, 2, 3],\n",
    "    'CGPA': [3.25, 3.25, 3.25, 3.25, 3.25, 3.75, 3.75, 3.75, 2.75, 3.75, 3.75, 3.75, 3.25, 3.0, 3.75, 3.75, 3.25, 3.25, 3.75, 3.25, 3.0, 3.25, 3.75],\n",
    "    'Marital_Status': ['No', 'Yes', 'No', 'Yes', 'No', 'No', 'Yes', 'No', 'No', 'No', 'No', 'Yes', 'No', 'No', 'No',\n",
    "                       'No', 'No', 'Yes', 'No', 'Yes', 'No', 'No', 'No'],\n",
    "    'Depression': ['No', 'No', 'No', 'Yes', 'No', 'No', 'Yes', 'No', 'No', 'No', 'No', 'Yes', 'Yes', 'No', 'No', 'No',\n",
    "                   'No', 'Yes', 'No', 'Yes', 'No', 'No', 'No'],\n",
    "    'Sadness': ['No', 'No', 'Yes', 'Yes', 'No', 'No', 'No', 'Yes', 'No', 'Yes', 'No', 'No', 'No', 'No', 'No', 'No',\n",
    "                'No', 'No', 'No', 'Yes', 'No', 'No', 'No']\n",
    "}\n",
    "\n",
    "# Creating DataFrame\n",
    "df = pd.DataFrame(data)\n",
    "\n",
    "# Perform Simple Linear Regression\n",
    "X = df['Year'].values.reshape(-1, 1)\n",
    "y = df['CGPA'].values\n",
    "\n",
    "model = LinearRegression()\n",
    "model.fit(X, y)\n",
    "\n",
    "# Predictions\n",
    "y_pred = model.predict(X)\n",
    "\n",
    "# Plotting\n",
    "plt.figure(figsize=(10, 6))\n",
    "\n",
    "# Plotting training data\n",
    "plt.scatter(X, y, color='blue', label='Actual data')\n",
    "\n",
    "# Plotting predictions\n",
    "plt.plot(X, y_pred, color='red', linewidth=2, label='Linear regression')\n",
    "\n",
    "plt.title('Simple Linear Regression')\n",
    "plt.xlabel('Year')\n",
    "plt.ylabel('CGPA')\n",
    "plt.legend()\n",
    "plt.grid(True)\n",
    "plt.show()\n",
    "\n"
   ]
  },
  {
   "cell_type": "code",
   "execution_count": 48,
   "id": "ba9b7d84-7210-4c29-b077-d92f4f98879b",
   "metadata": {},
   "outputs": [
    {
     "name": "stdout",
     "output_type": "stream",
     "text": [
      "Coefficients: [-0.00105485]\n",
      "Intercept: 3.4261603375527425\n"
     ]
    }
   ],
   "source": [
    "# Print the coefficients\n",
    "print(f\"Coefficients: {model.coef_}\")\n",
    "print(f\"Intercept: {model.intercept_}\")"
   ]
  },
  {
   "cell_type": "markdown",
   "id": "c894997b-a27e-4ff9-8df7-e36d15cb598b",
   "metadata": {},
   "source": [
    "## Array operation "
   ]
  },
  {
   "cell_type": "code",
   "execution_count": 46,
   "id": "4f88fb70-2346-4bad-b792-b788eb797e7f",
   "metadata": {},
   "outputs": [
    {
     "name": "stdout",
     "output_type": "stream",
     "text": [
      "Requirement already satisfied: numpy in c:\\users\\c s\\desktop\\ancaconda\\lib\\site-packages (1.26.4)\n"
     ]
    }
   ],
   "source": [
    "!pip install numpy"
   ]
  },
  {
   "cell_type": "code",
   "execution_count": 47,
   "id": "ddb7ce14-ae82-4302-80b1-dd786dddd52d",
   "metadata": {},
   "outputs": [
    {
     "name": "stdout",
     "output_type": "stream",
     "text": [
      "Matrix 1:\n",
      " [[1 2 3]\n",
      " [4 5 6]]\n",
      "\n",
      "Matrix 2 :\n",
      " [[ 7  8  9]\n",
      " [10 11 12]\n",
      " [13 14 15]]\n",
      "\n",
      "Zeros Matrix :\n",
      " [[0. 0.]\n",
      " [0. 0.]]\n",
      "\n",
      "Ones Matrix :\n",
      " [[1. 1. 1. 1.]\n",
      " [1. 1. 1. 1.]\n",
      " [1. 1. 1. 1.]]\n",
      "\n",
      "Identity Matrix :\n",
      " [[1. 0. 0.]\n",
      " [0. 1. 0.]\n",
      " [0. 0. 1.]]\n",
      "\n",
      "Diagonal Matrix :\n",
      " [[1 0 0 0]\n",
      " [0 2 0 0]\n",
      " [0 0 3 0]\n",
      " [0 0 0 4]]\n",
      "\n",
      "Random Matrix :\n",
      " [[0.88005947 0.49852877]\n",
      " [0.37236847 0.95656409]]\n"
     ]
    }
   ],
   "source": [
    "import numpy as np\n",
    "# Create a 2x3 matrix\n",
    "matrix1 = np.array([[1,2,3],\n",
    "                   [4,5,6]])\n",
    "\n",
    "# Create a 3x3 matrix\n",
    "matrix2 = np.array([[7,8,9],\n",
    "                   [10,11,12],\n",
    "                   [13,14,15]])\n",
    "\n",
    "#Create a matrix of zeros with shape 2x2\n",
    "zeros_matrix = np.zeros((2,2))\n",
    "\n",
    "#Create a matrix of ones with shape 3x4\n",
    "ones_matrix = np.ones((3,4))\n",
    "\n",
    "#Create an identity matrix of size 3x3\n",
    "identity_matrix = np.eye(3)\n",
    "\n",
    "#create a diagonal matrix from a list\n",
    "diagonal_matrix = np.diag([1,2,3,4])\n",
    "\n",
    "#create a random matrix with shape 2x2\n",
    "random_matrix = np.random.rand(2,2)\n",
    "\n",
    "#display the matrices\n",
    "\n",
    "print(\"Matrix 1:\\n\", matrix1)\n",
    "print(\"\\nMatrix 2 :\\n\", matrix2)\n",
    "print(\"\\nZeros Matrix :\\n\", zeros_matrix)\n",
    "print(\"\\nOnes Matrix :\\n\", ones_matrix)\n",
    "print(\"\\nIdentity Matrix :\\n\", identity_matrix)   \n",
    "print(\"\\nDiagonal Matrix :\\n\", diagonal_matrix)  \n",
    "print(\"\\nRandom Matrix :\\n\", random_matrix)      \n",
    "      "
   ]
  },
  {
   "cell_type": "code",
   "execution_count": null,
   "id": "ca72df58-111d-432c-b635-268c504a99cf",
   "metadata": {},
   "outputs": [],
   "source": []
  }
 ],
 "metadata": {
  "kernelspec": {
   "display_name": "Python 3 (ipykernel)",
   "language": "python",
   "name": "python3"
  },
  "language_info": {
   "codemirror_mode": {
    "name": "ipython",
    "version": 3
   },
   "file_extension": ".py",
   "mimetype": "text/x-python",
   "name": "python",
   "nbconvert_exporter": "python",
   "pygments_lexer": "ipython3",
   "version": "3.11.7"
  }
 },
 "nbformat": 4,
 "nbformat_minor": 5
}
